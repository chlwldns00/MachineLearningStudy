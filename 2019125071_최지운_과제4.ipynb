{
 "cells": [
  {
   "cell_type": "markdown",
   "id": "187bc05b",
   "metadata": {},
   "source": [
    "# EXCEL로 만든 인공신경망을 pytorch의 Tensor 클래스을 이용하여 만들기"
   ]
  },
  {
   "cell_type": "code",
   "execution_count": 2,
   "id": "40b1557a",
   "metadata": {},
   "outputs": [],
   "source": [
    "import torch\n",
    "import numpy as np"
   ]
  },
  {
   "cell_type": "markdown",
   "id": "52dacaad",
   "metadata": {},
   "source": [
    "필요한 함수의 정의하기"
   ]
  },
  {
   "cell_type": "code",
   "execution_count": 71,
   "id": "c53c8aba",
   "metadata": {},
   "outputs": [],
   "source": [
    "def ReLU_func(outputs):\n",
    "    \n",
    "    return np.maximum(0,outputs)\n",
    "\n",
    "def softmax(outputs):\n",
    "    # 채우기\n",
    "    softmax=torch.nn.functional.softmax(outputs,dim=1)\n",
    "    \n",
    "    return softmax\n",
    "\n",
    "def cross_entropy(outputs, labels):\n",
    "    c=torch.nn.CrossEntropyLoss()\n",
    "    loss=c(outputs,labels)\n",
    "    return loss"
   ]
  },
  {
   "cell_type": "markdown",
   "id": "8bb50e1f",
   "metadata": {},
   "source": [
    "Weight 값 설정하기"
   ]
  },
  {
   "cell_type": "code",
   "execution_count": 72,
   "id": "41143ded",
   "metadata": {},
   "outputs": [],
   "source": [
    "w_ih = torch.Tensor([\n",
    "    [1,-2,3],\n",
    "    [-2,5,3],\n",
    "])\n",
    "\n",
    "w_ho = torch.Tensor([\n",
    "    [3,-2,4],\n",
    "    [-1,2,3],\n",
    "    [2,-2,-4],\n",
    "])"
   ]
  },
  {
   "cell_type": "markdown",
   "id": "1d9997f9",
   "metadata": {},
   "source": [
    "Batch 가 3인 Input 값과 Labels 값의 입력하기"
   ]
  },
  {
   "cell_type": "code",
   "execution_count": 73,
   "id": "a572aa07",
   "metadata": {},
   "outputs": [],
   "source": [
    "input = torch.Tensor([\n",
    "    [2,-4],\n",
    "    [0,3],\n",
    "    [-6,2],\n",
    "])\n",
    "\n",
    "labels = torch.Tensor([\n",
    "    [1,0,0],\n",
    "    [0,1,0],\n",
    "    [0,0,1],\n",
    "])"
   ]
  },
  {
   "cell_type": "markdown",
   "id": "2bef726d",
   "metadata": {},
   "source": [
    "L1의 활성화 함수 전의 값 구하기"
   ]
  },
  {
   "cell_type": "code",
   "execution_count": 74,
   "id": "bf59a79f",
   "metadata": {},
   "outputs": [
    {
     "name": "stdout",
     "output_type": "stream",
     "text": [
      "tensor([[ 10., -24.,  -6.],\n",
      "        [ -6.,  15.,   9.],\n",
      "        [-10.,  22., -12.]])\n"
     ]
    }
   ],
   "source": [
    "L1 = input@w_ih\n",
    "print(L1)"
   ]
  },
  {
   "cell_type": "markdown",
   "id": "f8de5cb0",
   "metadata": {},
   "source": [
    "ReLU의 적용하기"
   ]
  },
  {
   "cell_type": "code",
   "execution_count": 75,
   "id": "b8c2c44f",
   "metadata": {},
   "outputs": [
    {
     "name": "stdout",
     "output_type": "stream",
     "text": [
      "tensor([[10.,  0.,  0.],\n",
      "        [ 0., 15.,  9.],\n",
      "        [ 0., 22.,  0.]])\n"
     ]
    }
   ],
   "source": [
    "L1 = ReLU_func(L1)\n",
    "print(L1)"
   ]
  },
  {
   "cell_type": "markdown",
   "id": "f9e9b42c",
   "metadata": {},
   "source": [
    "Output 구하기"
   ]
  },
  {
   "cell_type": "code",
   "execution_count": 76,
   "id": "72dc0d6c",
   "metadata": {},
   "outputs": [
    {
     "name": "stdout",
     "output_type": "stream",
     "text": [
      "tensor([[ 30., -20.,  40.],\n",
      "        [  3.,  12.,   9.],\n",
      "        [-22.,  44.,  66.]])\n"
     ]
    }
   ],
   "source": [
    "outputs = L1@w_ho\n",
    "print(outputs)"
   ]
  },
  {
   "cell_type": "markdown",
   "id": "86e4c95f",
   "metadata": {},
   "source": [
    "Softmax의 적용"
   ]
  },
  {
   "cell_type": "code",
   "execution_count": 77,
   "id": "d4f97dde",
   "metadata": {},
   "outputs": [
    {
     "name": "stdout",
     "output_type": "stream",
     "text": [
      "tensor([[4.5398e-05, 8.7561e-27, 9.9995e-01],\n",
      "        [1.1754e-04, 9.5246e-01, 4.7420e-02],\n",
      "        [6.0546e-39, 2.7895e-10, 1.0000e+00]])\n"
     ]
    }
   ],
   "source": [
    "so = softmax(outputs)\n",
    "print(so)"
   ]
  },
  {
   "cell_type": "markdown",
   "id": "a2131903",
   "metadata": {},
   "source": [
    "sample별로 loss 구하기"
   ]
  },
  {
   "cell_type": "code",
   "execution_count": 86,
   "id": "e08c9c96",
   "metadata": {},
   "outputs": [
    {
     "name": "stdout",
     "output_type": "stream",
     "text": [
      "tensor([1.5514, 0.5824, 0.5514])\n"
     ]
    }
   ],
   "source": [
    "a=[]\n",
    "for i in range(0,3):\n",
    "    loss1 = cross_entropy(so[i:i+1],labels[i:i+1]) #softmax한 텐서값을 샘플따서 각각 크로스엔트로피 취함\n",
    "    loss1=loss1.item()\n",
    "    a.append(loss1)\n",
    "\n",
    "\n",
    "a=torch.tensor(a)\n",
    "print(a)\n",
    "\n",
    "\n"
   ]
  },
  {
   "cell_type": "markdown",
   "id": "8cd0b2cf",
   "metadata": {},
   "source": [
    "최종 loss 구하기"
   ]
  },
  {
   "cell_type": "code",
   "execution_count": 87,
   "id": "36fe5758",
   "metadata": {},
   "outputs": [
    {
     "name": "stdout",
     "output_type": "stream",
     "text": [
      "tensor(0.8951)\n"
     ]
    }
   ],
   "source": [
    "loss = a.mean()\n",
    "print(loss)"
   ]
  },
  {
   "cell_type": "markdown",
   "id": "eb21e73c",
   "metadata": {},
   "source": [
    "## EXCEL과 같은 답이 나오는가?"
   ]
  },
  {
   "cell_type": "markdown",
   "id": "73461636",
   "metadata": {},
   "source": [
    "**예**"
   ]
  },
  {
   "cell_type": "markdown",
   "id": "893cd1b6",
   "metadata": {},
   "source": [
    " #### 아니면 이유가 무엇인가? \n"
   ]
  },
  {
   "cell_type": "markdown",
   "id": "d0698009",
   "metadata": {},
   "source": [
    "답변 하시오"
   ]
  }
 ],
 "metadata": {
  "kernelspec": {
   "display_name": "Python 3 (ipykernel)",
   "language": "python",
   "name": "python3"
  },
  "language_info": {
   "codemirror_mode": {
    "name": "ipython",
    "version": 3
   },
   "file_extension": ".py",
   "mimetype": "text/x-python",
   "name": "python",
   "nbconvert_exporter": "python",
   "pygments_lexer": "ipython3",
   "version": "3.9.13"
  }
 },
 "nbformat": 4,
 "nbformat_minor": 5
}
