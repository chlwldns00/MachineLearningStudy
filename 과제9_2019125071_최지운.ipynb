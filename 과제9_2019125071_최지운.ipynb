{
 "cells": [
  {
   "cell_type": "markdown",
   "id": "b71f7385",
   "metadata": {},
   "source": [
    "# Multi-Layer Perceptron with CIFAR10 classification "
   ]
  },
  {
   "cell_type": "markdown",
   "id": "1705e140",
   "metadata": {},
   "source": [
    "## 1. Module Import"
   ]
  },
  {
   "cell_type": "code",
   "execution_count": 1,
   "id": "a0643ab9",
   "metadata": {},
   "outputs": [],
   "source": [
    "import numpy as np\n",
    "import matplotlib.pyplot as plt\n",
    "\n",
    "import torch\n",
    "from torchvision import datasets\n",
    "import torchvision.transforms as transforms\n",
    "\n",
    "import torch.optim as optim\n",
    "\n",
    "import ssl\n",
    "ssl._create_default_https_context = ssl._create_unverified_context\n"
   ]
  },
  {
   "cell_type": "markdown",
   "id": "615e50e2",
   "metadata": {},
   "source": [
    "## 2. 딥러닝 모델을 설계할 때 활용하는 장비 확인"
   ]
  },
  {
   "cell_type": "code",
   "execution_count": 2,
   "id": "063e666e",
   "metadata": {},
   "outputs": [
    {
     "name": "stdout",
     "output_type": "stream",
     "text": [
      "Using PyTorch version: 2.0.0+cpu  Device: cpu\n"
     ]
    }
   ],
   "source": [
    "if torch.cuda.is_available():\n",
    "    device = torch.device('cuda')\n",
    "else:\n",
    "    device = torch.device('cpu')\n",
    "\n",
    "print('Using PyTorch version:', torch.__version__, ' Device:', device)\n"
   ]
  },
  {
   "cell_type": "markdown",
   "id": "534d3122",
   "metadata": {},
   "source": [
    "## 3. CIFAR10 Data Normalization and Augmentation"
   ]
  },
  {
   "cell_type": "code",
   "execution_count": 3,
   "id": "9beb8a68",
   "metadata": {},
   "outputs": [
    {
     "name": "stdout",
     "output_type": "stream",
     "text": [
      "Files already downloaded and verified\n",
      "Files already downloaded and verified\n"
     ]
    }
   ],
   "source": [
    "train_data = datasets.CIFAR10('data', train=True, download=True, transform=transforms.ToTensor())\n",
    "test_data = datasets.CIFAR10('data', train=False, download=True, transform=transforms.ToTensor())\n"
   ]
  },
  {
   "cell_type": "markdown",
   "id": "f60a63b3",
   "metadata": {},
   "source": [
    "문제) 학습 데이터(training data)의 색상별 평균과 표준 편차를 구하자.\n"
   ]
  },
  {
   "cell_type": "code",
   "execution_count": 4,
   "id": "43b15adb",
   "metadata": {},
   "outputs": [
    {
     "name": "stdout",
     "output_type": "stream",
     "text": [
      "(50000, 32, 32, 3)\n",
      "[0.49139968 0.48215841 0.44653091]\n",
      "[0.24703223 0.24348513 0.26158784]\n"
     ]
    }
   ],
   "source": [
    "print(train_data.data.shape)\n",
    "print(train_data.data.mean(axis=(0, 1, 2)) / 255)\n",
    "print(train_data.data.std(axis=(0, 1, 2)) / 255)\n",
    "    "
   ]
  },
  {
   "cell_type": "markdown",
   "id": "ae8ac98c",
   "metadata": {},
   "source": [
    "문제) 위 내용을 반영하여 데이터를 Normalize 하고 랜덤하게 좌우반전 및 흑백 사진으로 바꾸자."
   ]
  },
  {
   "cell_type": "code",
   "execution_count": 5,
   "id": "ac88dac6",
   "metadata": {},
   "outputs": [
    {
     "name": "stdout",
     "output_type": "stream",
     "text": [
      "Files already downloaded and verified\n",
      "Files already downloaded and verified\n"
     ]
    }
   ],
   "source": [
    "transform = transforms.Compose(\n",
    "    [\n",
    "        transforms.RandomApply([transforms.RandomGrayscale(),transforms.RandomHorizontalFlip()],p=0.6),\n",
    "        transforms.ToTensor(),\n",
    "        transforms.Normalize([(train_data.data.mean(axis=(0, 1, 2)) / 255)[0], \n",
    "                              (train_data.data.mean(axis=(0, 1, 2)) / 255)[1], \n",
    "                              (train_data.data.mean(axis=(0, 1, 2)) / 255)[2]], \n",
    "                             [(train_data.data.std(axis=(0, 1, 2)) / 255)[0], \n",
    "                              (train_data.data.std(axis=(0, 1, 2)) / 255)[1], \n",
    "                              (train_data.data.std(axis=(0, 1, 2)) / 255)[2]])\n",
    "    ])\n",
    "\n",
    "train_data = datasets.CIFAR10('data', train=True, download=True, transform=transform)\n",
    "test_data = datasets.CIFAR10('data', train=False, download=True, transform=transform)\n"
   ]
  },
  {
   "cell_type": "markdown",
   "id": "2cf7dfdd",
   "metadata": {},
   "source": [
    "완성된 dataset.CIFAR10 객체를 train_loader에 넣는다."
   ]
  },
  {
   "cell_type": "code",
   "execution_count": 6,
   "id": "d034ffb2",
   "metadata": {},
   "outputs": [],
   "source": [
    "BATCH_SIZE = 32\n",
    "\n",
    "train_loader = torch.utils.data.DataLoader(dataset=train_data, batch_size=BATCH_SIZE, shuffle=False)\n",
    "test_loader = torch.utils.data.DataLoader(dataset=test_data, batch_size=BATCH_SIZE, shuffle=False)\n"
   ]
  },
  {
   "cell_type": "markdown",
   "id": "57ebcf43",
   "metadata": {},
   "source": [
    "아래의 코드를 여러번 돌려, 실제로 좌우반전 및 흑백사진으로 변하는지 확인하자."
   ]
  },
  {
   "cell_type": "code",
   "execution_count": 7,
   "id": "5d5527e0",
   "metadata": {
    "scrolled": false
   },
   "outputs": [
    {
     "name": "stderr",
     "output_type": "stream",
     "text": [
      "Clipping input data to the valid range for imshow with RGB data ([0..1] for floats or [0..255] for integers).\n"
     ]
    },
    {
     "data": {
      "image/png": "[encoded data removed]",
      "text/plain": [
       "<Figure size 640x480 with 1 Axes>"
      ]
     },
     "metadata": {},
     "output_type": "display_data"
    }
   ],
   "source": [
    "for (X_train, y_train) in train_loader:\n",
    "    plt.imshow(X_train[0].permute(1,2,0).numpy())\n",
    "    plt.show()\n",
    "    break\n",
    "    "
   ]
  },
  {
   "cell_type": "markdown",
   "id": "437ffb80",
   "metadata": {},
   "source": [
    "## 4. torch.nn을 이용하여 모델-1 만들기\n",
    "\n",
    "   1) input layer (입력층), hidden layer (은닉층), output layer (출력층) 으로 이루어진 모델을 이용\n",
    "\n",
    "   2) 하나의 hidden layer (은닉층)만 이용 - 은닉층의 개수는 100개로 하세요\n",
    "   \n",
    "   3) nn.Module을 상속 받아 만들 것!\n",
    "   \n",
    "   4) nn.Linear와 nn.ReLU를 사용할 것!\n",
    "   \n",
    "   5) Batch Normalization 을 사용할 것"
   ]
  },
  {
   "cell_type": "code",
   "execution_count": 8,
   "id": "defacffb",
   "metadata": {},
   "outputs": [],
   "source": [
    "import torch.nn as nn\n",
    "\n",
    "class Model_1(nn.Module):\n",
    "    def __init__(self):\n",
    "        super(Model_1, self).__init__()\n",
    "        self.L1 = torch.nn.Linear(3*32*32, 100)\n",
    "        self.bn = torch.nn.BatchNorm1d(100)\n",
    "        self.relu = torch.nn.ReLU()\n",
    "        self.L2 = torch.nn.Linear(100, 10)\n",
    "\n",
    "        \n",
    "    def forward(self,x):\n",
    "        ih = self.L1(x)\n",
    "        bn = self.bn(ih)\n",
    "        relu = self.relu(bn)\n",
    "        ho = self.L2(relu)\n",
    "        x = ho\n",
    "        return x"
   ]
  },
  {
   "cell_type": "markdown",
   "id": "3e26eed9",
   "metadata": {},
   "source": [
    "## 5. torch.nn을 이용하여 모델-2 만들기\n",
    "\n",
    "   1) input layer (입력층), hidden layer (은닉층), output layer (출력층) 으로 이루어진 모델을 이용\n",
    "\n",
    "   2) 하나의 hidden layer (은닉층)만 이용 - 은닉층의 개수는 100개로 하세요\n",
    "   \n",
    "   3) nn.Module을 상속 받아 만들 것!\n",
    "   \n",
    "   4) nn.Linear와 nn.ReLU를 사용할 것!\n",
    "   \n",
    "   5) Dropout을 확률을 50%로 사용할 것 - BN는 사용하지 말것!"
   ]
  },
  {
   "cell_type": "code",
   "execution_count": 9,
   "id": "27ac70af",
   "metadata": {},
   "outputs": [],
   "source": [
    "class Model_2(nn.Module):\n",
    "    def __init__(self):\n",
    "        super(Model_2, self).__init__()\n",
    "        self.L1 = torch.nn.Linear(32*32*3, 100)\n",
    "        self.dropout = torch.nn.Dropout(0.5)\n",
    "        self.relu = torch.nn.ReLU()\n",
    "        self.L2 = torch.nn.Linear(100, 10)\n",
    "        \n",
    "    def forward(self,x):\n",
    "        ih = self.L1(x)\n",
    "        relu = self.relu(ih)\n",
    "        dropout = self.dropout(relu)\n",
    "        ho = self.L2(dropout)\n",
    "        x = ho\n",
    "        return x"
   ]
  },
  {
   "cell_type": "markdown",
   "id": "de556825",
   "metadata": {},
   "source": [
    "## 7. 학습 준비하기\n",
    "\n",
    "1) 1 epoch를 학습할 수 있는 함수 만들기\n",
    "\n",
    "2) 1 테스트 데이터의 정확도 계산할 수 있는 함수 만들기"
   ]
  },
  {
   "cell_type": "code",
   "execution_count": 10,
   "id": "06030b48",
   "metadata": {},
   "outputs": [],
   "source": [
    "def training_epoch(train_loader, network, loss_func, optimizer, epoch):\n",
    "    train_losses = []\n",
    "    train_correct = 0\n",
    "    log_interval = 500\n",
    "    \n",
    "    for batch_idx, (image, label) in enumerate(train_loader):\n",
    "        # 미분값의 초기화\n",
    "        optimizer.zero_grad()\n",
    "\n",
    "        # 이미지를 (batch_size, -1) 차원의 메트릭스로 만드세요\n",
    "        batch_size = image.size()[0]\n",
    "        image = torch.reshape(image,(batch_size, -1))\n",
    "\n",
    "        # Forward propagration 계산하기.\n",
    "        outputs = network(image)\n",
    "        \n",
    "        # loss_func 함수를 적용하여 loss를 구하고 저장하기\n",
    "        loss = loss_func(outputs, label)\n",
    "        train_losses.append(loss.item())\n",
    "\n",
    "        # training accuracy 정확도 구하기 위해 맞는 샘플 개수 세기\n",
    "        pred = outputs.data.argmax(dim=1)\n",
    "        train_correct += pred.eq(label).sum()\n",
    "\n",
    "        # Gradinet 구하기\n",
    "        loss.backward()\n",
    "\n",
    "        # weight값 update 하기\n",
    "        optimizer.step()\n",
    "\n",
    "        # 학습 상황 출력\n",
    "        if batch_idx % log_interval == 0:\n",
    "            print('Train Epoch: {} [{}/{} ({:.0f}%)]\\tLoss: {:.6f}'\n",
    "                  .format(epoch, batch_idx * len(label), len(train_loader.dataset),100. * batch_idx / len(train_loader),\n",
    "                          loss.item()))\n",
    "            \n",
    "    return train_losses, train_correct"
   ]
  },
  {
   "cell_type": "code",
   "execution_count": 11,
   "id": "d3c0dcf9",
   "metadata": {},
   "outputs": [],
   "source": [
    "def test_epoch(test_loader, network, loss_func):\n",
    "    correct = 0\n",
    "    \n",
    "    test_losses = []\n",
    "    \n",
    "    with torch.no_grad():\n",
    "        for batch_idx, (image, label) in enumerate(test_loader):\n",
    "            batch_size = image.size()[0]\n",
    "            image = torch.reshape(image,(batch_size, -1))\n",
    "\n",
    "            # Forward propagration 계산하기.\n",
    "            outputs = network(image)\n",
    "            \n",
    "            # loss_func 함수를 적용하여 loss를 구하고 저장하기\n",
    "            loss = loss_func(outputs, label)\n",
    "            test_losses.append(loss.item())\n",
    "\n",
    "            # Batch 별로 정확도 구하기\n",
    "            pred = outputs.data.argmax(dim=1)\n",
    "            correct += pred.eq(label).sum()\n",
    "\n",
    "\n",
    "        # 전체 정확도 구하기\n",
    "        test_accuracy = 100. * correct / len(test_loader.dataset)\n",
    "\n",
    "        #중간결과 출력\n",
    "        print('Test set: Accuracy: {}/{} ({:.0f}%)\\n'\n",
    "              .format(correct, len(test_loader.dataset), 100. * correct / len(test_loader.dataset)))\n",
    "    return test_losses, test_accuracy\n"
   ]
  },
  {
   "cell_type": "markdown",
   "id": "88d73c53",
   "metadata": {},
   "source": [
    "## 7. 위 정의된 함수로 학습 함수 만들기\n",
    "\n",
    "1. SGD Optimizer를 사용하고\n",
    "\n",
    "2. Regularizer 를 사용하여 (weight_decay = 0.01로 사용할 것)\n",
    "\n",
    "학습시키기"
   ]
  },
  {
   "cell_type": "code",
   "execution_count": 12,
   "id": "df29783f",
   "metadata": {},
   "outputs": [],
   "source": [
    "def training(network, learning_rate = 0.01):\n",
    "    \n",
    "#     learning_rate = 0.01\n",
    "    epoches = 20\n",
    "    \n",
    "    cls_loss = torch.nn.CrossEntropyLoss()\n",
    "    optimizer = torch.optim.SGD(network.parameters(), lr = learning_rate, weight_decay = 0.01)\n",
    "    \n",
    "    train_losses_per_epoch = []\n",
    "    test_losses_per_epoch = []\n",
    "    \n",
    "    train_accuracies = []\n",
    "    test_accuracies = []\n",
    "    \n",
    "    \n",
    "    for epoch in range(epoches):\n",
    "                \n",
    "        # 모델를 학습 중이라고 선언하기\n",
    "        network.train()\n",
    "        \n",
    "        train_losses, train_correct = training_epoch(train_loader,network,cls_loss,optimizer, epoch)\n",
    "        \n",
    "        # epoch 별로 loss 평균값, 정확도 구하기\n",
    "        average_loss = np.mean(train_losses)\n",
    "        train_losses_per_epoch.append(average_loss)\n",
    "        \n",
    "        train_accuracy = train_correct / len(train_loader.dataset) * 100\n",
    "        train_accuracies.append(train_accuracy)\n",
    "        \n",
    "        # epoch 별로 정확도 출력\n",
    "        print('\\nTraining set: Accuracy: {}/{} ({:.0f}%)'\n",
    "              .format(train_correct, len(train_loader.dataset),100. * train_correct / len(train_loader.dataset)))\n",
    "\n",
    "        \n",
    "        ### 학습 중에 test 결과 보기\n",
    "        \n",
    "        # 모델 test 중인 것을 선언하기\n",
    "        network.eval()\n",
    "        \n",
    "        correct = 0\n",
    "        with torch.no_grad():\n",
    "            test_losses, test_accuracy = test_epoch(test_loader, network, cls_loss)\n",
    "\n",
    "        test_losses_per_epoch.append(np.mean(test_losses))\n",
    "        test_accuracies.append(test_accuracy)\n",
    "        \n",
    "    return train_losses_per_epoch, test_losses_per_epoch, train_accuracies, test_accuracies\n"
   ]
  },
  {
   "cell_type": "code",
   "execution_count": 13,
   "id": "e1394321",
   "metadata": {
    "scrolled": false
   },
   "outputs": [
    {
     "name": "stdout",
     "output_type": "stream",
     "text": [
      "Train Epoch: 0 [0/50000 (0%)]\tLoss: 2.405674\n",
      "Train Epoch: 0 [16000/50000 (32%)]\tLoss: 1.865151\n",
      "Train Epoch: 0 [32000/50000 (64%)]\tLoss: 1.792284\n",
      "Train Epoch: 0 [48000/50000 (96%)]\tLoss: 1.962816\n",
      "\n",
      "Training set: Accuracy: 19158/50000 (38%)\n",
      "Test set: Accuracy: 4331/10000 (43%)\n",
      "\n",
      "Train Epoch: 1 [0/50000 (0%)]\tLoss: 1.802547\n",
      "Train Epoch: 1 [16000/50000 (32%)]\tLoss: 1.669029\n",
      "Train Epoch: 1 [32000/50000 (64%)]\tLoss: 1.764280\n",
      "Train Epoch: 1 [48000/50000 (96%)]\tLoss: 1.943860\n",
      "\n",
      "Training set: Accuracy: 21594/50000 (43%)\n",
      "Test set: Accuracy: 4544/10000 (45%)\n",
      "\n",
      "Train Epoch: 2 [0/50000 (0%)]\tLoss: 1.835994\n",
      "Train Epoch: 2 [16000/50000 (32%)]\tLoss: 1.580304\n",
      "Train Epoch: 2 [32000/50000 (64%)]\tLoss: 1.623491\n",
      "Train Epoch: 2 [48000/50000 (96%)]\tLoss: 1.894595\n",
      "\n",
      "Training set: Accuracy: 22466/50000 (45%)\n",
      "Test set: Accuracy: 4652/10000 (47%)\n",
      "\n",
      "Train Epoch: 3 [0/50000 (0%)]\tLoss: 1.757117\n",
      "Train Epoch: 3 [16000/50000 (32%)]\tLoss: 1.635528\n",
      "Train Epoch: 3 [32000/50000 (64%)]\tLoss: 1.658340\n",
      "Train Epoch: 3 [48000/50000 (96%)]\tLoss: 1.936934\n",
      "\n",
      "Training set: Accuracy: 22818/50000 (46%)\n",
      "Test set: Accuracy: 4675/10000 (47%)\n",
      "\n",
      "Train Epoch: 4 [0/50000 (0%)]\tLoss: 1.734260\n",
      "Train Epoch: 4 [16000/50000 (32%)]\tLoss: 1.578426\n",
      "Train Epoch: 4 [32000/50000 (64%)]\tLoss: 1.619493\n",
      "Train Epoch: 4 [48000/50000 (96%)]\tLoss: 1.905031\n",
      "\n",
      "Training set: Accuracy: 23098/50000 (46%)\n",
      "Test set: Accuracy: 4770/10000 (48%)\n",
      "\n",
      "Train Epoch: 5 [0/50000 (0%)]\tLoss: 1.739515\n",
      "Train Epoch: 5 [16000/50000 (32%)]\tLoss: 1.590679\n",
      "Train Epoch: 5 [32000/50000 (64%)]\tLoss: 1.602327\n",
      "Train Epoch: 5 [48000/50000 (96%)]\tLoss: 1.897901\n",
      "\n",
      "Training set: Accuracy: 23406/50000 (47%)\n",
      "Test set: Accuracy: 4749/10000 (47%)\n",
      "\n",
      "Train Epoch: 6 [0/50000 (0%)]\tLoss: 1.718358\n",
      "Train Epoch: 6 [16000/50000 (32%)]\tLoss: 1.566780\n",
      "Train Epoch: 6 [32000/50000 (64%)]\tLoss: 1.591524\n",
      "Train Epoch: 6 [48000/50000 (96%)]\tLoss: 1.834778\n",
      "\n",
      "Training set: Accuracy: 23455/50000 (47%)\n",
      "Test set: Accuracy: 4782/10000 (48%)\n",
      "\n",
      "Train Epoch: 7 [0/50000 (0%)]\tLoss: 1.712954\n",
      "Train Epoch: 7 [16000/50000 (32%)]\tLoss: 1.570160\n",
      "Train Epoch: 7 [32000/50000 (64%)]\tLoss: 1.619826\n",
      "Train Epoch: 7 [48000/50000 (96%)]\tLoss: 1.934409\n",
      "\n",
      "Training set: Accuracy: 23530/50000 (47%)\n",
      "Test set: Accuracy: 4755/10000 (48%)\n",
      "\n",
      "Train Epoch: 8 [0/50000 (0%)]\tLoss: 1.686009\n",
      "Train Epoch: 8 [16000/50000 (32%)]\tLoss: 1.539034\n",
      "Train Epoch: 8 [32000/50000 (64%)]\tLoss: 1.624325\n",
      "Train Epoch: 8 [48000/50000 (96%)]\tLoss: 1.901610\n",
      "\n",
      "Training set: Accuracy: 23640/50000 (47%)\n",
      "Test set: Accuracy: 4793/10000 (48%)\n",
      "\n",
      "Train Epoch: 9 [0/50000 (0%)]\tLoss: 1.721029\n",
      "Train Epoch: 9 [16000/50000 (32%)]\tLoss: 1.564345\n",
      "Train Epoch: 9 [32000/50000 (64%)]\tLoss: 1.611807\n",
      "Train Epoch: 9 [48000/50000 (96%)]\tLoss: 1.878691\n",
      "\n",
      "Training set: Accuracy: 23546/50000 (47%)\n",
      "Test set: Accuracy: 4775/10000 (48%)\n",
      "\n",
      "Train Epoch: 10 [0/50000 (0%)]\tLoss: 1.688233\n",
      "Train Epoch: 10 [16000/50000 (32%)]\tLoss: 1.540491\n",
      "Train Epoch: 10 [32000/50000 (64%)]\tLoss: 1.592221\n",
      "Train Epoch: 10 [48000/50000 (96%)]\tLoss: 1.918277\n",
      "\n",
      "Training set: Accuracy: 23679/50000 (47%)\n",
      "Test set: Accuracy: 4735/10000 (47%)\n",
      "\n",
      "Train Epoch: 11 [0/50000 (0%)]\tLoss: 1.709859\n",
      "Train Epoch: 11 [16000/50000 (32%)]\tLoss: 1.637216\n",
      "Train Epoch: 11 [32000/50000 (64%)]\tLoss: 1.737854\n",
      "Train Epoch: 11 [48000/50000 (96%)]\tLoss: 1.934458\n",
      "\n",
      "Training set: Accuracy: 23743/50000 (47%)\n",
      "Test set: Accuracy: 4779/10000 (48%)\n",
      "\n",
      "Train Epoch: 12 [0/50000 (0%)]\tLoss: 1.730058\n",
      "Train Epoch: 12 [16000/50000 (32%)]\tLoss: 1.589709\n",
      "Train Epoch: 12 [32000/50000 (64%)]\tLoss: 1.648661\n",
      "Train Epoch: 12 [48000/50000 (96%)]\tLoss: 1.944841\n",
      "\n",
      "Training set: Accuracy: 23814/50000 (48%)\n",
      "Test set: Accuracy: 4815/10000 (48%)\n",
      "\n",
      "Train Epoch: 13 [0/50000 (0%)]\tLoss: 1.681290\n",
      "Train Epoch: 13 [16000/50000 (32%)]\tLoss: 1.599286\n",
      "Train Epoch: 13 [32000/50000 (64%)]\tLoss: 1.598847\n",
      "Train Epoch: 13 [48000/50000 (96%)]\tLoss: 1.896810\n",
      "\n",
      "Training set: Accuracy: 23844/50000 (48%)\n",
      "Test set: Accuracy: 4814/10000 (48%)\n",
      "\n",
      "Train Epoch: 14 [0/50000 (0%)]\tLoss: 1.680594\n",
      "Train Epoch: 14 [16000/50000 (32%)]\tLoss: 1.650333\n",
      "Train Epoch: 14 [32000/50000 (64%)]\tLoss: 1.635190\n",
      "Train Epoch: 14 [48000/50000 (96%)]\tLoss: 1.973895\n",
      "\n",
      "Training set: Accuracy: 23917/50000 (48%)\n",
      "Test set: Accuracy: 4883/10000 (49%)\n",
      "\n",
      "Train Epoch: 15 [0/50000 (0%)]\tLoss: 1.675813\n",
      "Train Epoch: 15 [16000/50000 (32%)]\tLoss: 1.552137\n",
      "Train Epoch: 15 [32000/50000 (64%)]\tLoss: 1.611981\n",
      "Train Epoch: 15 [48000/50000 (96%)]\tLoss: 1.913692\n",
      "\n",
      "Training set: Accuracy: 23780/50000 (48%)\n",
      "Test set: Accuracy: 4791/10000 (48%)\n",
      "\n",
      "Train Epoch: 16 [0/50000 (0%)]\tLoss: 1.655608\n",
      "Train Epoch: 16 [16000/50000 (32%)]\tLoss: 1.591658\n",
      "Train Epoch: 16 [32000/50000 (64%)]\tLoss: 1.575965\n",
      "Train Epoch: 16 [48000/50000 (96%)]\tLoss: 1.928268\n",
      "\n",
      "Training set: Accuracy: 23948/50000 (48%)\n",
      "Test set: Accuracy: 4809/10000 (48%)\n",
      "\n",
      "Train Epoch: 17 [0/50000 (0%)]\tLoss: 1.701962\n",
      "Train Epoch: 17 [16000/50000 (32%)]\tLoss: 1.560616\n",
      "Train Epoch: 17 [32000/50000 (64%)]\tLoss: 1.594218\n",
      "Train Epoch: 17 [48000/50000 (96%)]\tLoss: 1.901816\n",
      "\n",
      "Training set: Accuracy: 23975/50000 (48%)\n",
      "Test set: Accuracy: 4837/10000 (48%)\n",
      "\n",
      "Train Epoch: 18 [0/50000 (0%)]\tLoss: 1.623849\n",
      "Train Epoch: 18 [16000/50000 (32%)]\tLoss: 1.569336\n",
      "Train Epoch: 18 [32000/50000 (64%)]\tLoss: 1.587961\n",
      "Train Epoch: 18 [48000/50000 (96%)]\tLoss: 1.937286\n",
      "\n",
      "Training set: Accuracy: 23968/50000 (48%)\n",
      "Test set: Accuracy: 4790/10000 (48%)\n",
      "\n",
      "Train Epoch: 19 [0/50000 (0%)]\tLoss: 1.658289\n",
      "Train Epoch: 19 [16000/50000 (32%)]\tLoss: 1.605743\n",
      "Train Epoch: 19 [32000/50000 (64%)]\tLoss: 1.624551\n",
      "Train Epoch: 19 [48000/50000 (96%)]\tLoss: 1.869874\n",
      "\n",
      "Training set: Accuracy: 24011/50000 (48%)\n",
      "Test set: Accuracy: 4801/10000 (48%)\n",
      "\n"
     ]
    }
   ],
   "source": [
    "network = Model_1()\n",
    "rlt_const = training(network)"
   ]
  },
  {
   "cell_type": "code",
   "execution_count": 14,
   "id": "2b3bb3ed",
   "metadata": {},
   "outputs": [
    {
     "name": "stdout",
     "output_type": "stream",
     "text": [
      "Train Epoch: 0 [0/50000 (0%)]\tLoss: 2.250974\n",
      "Train Epoch: 0 [16000/50000 (32%)]\tLoss: 2.031513\n",
      "Train Epoch: 0 [32000/50000 (64%)]\tLoss: 1.932210\n",
      "Train Epoch: 0 [48000/50000 (96%)]\tLoss: 2.271713\n",
      "\n",
      "Training set: Accuracy: 15246/50000 (30%)\n",
      "Test set: Accuracy: 3565/10000 (36%)\n",
      "\n",
      "Train Epoch: 1 [0/50000 (0%)]\tLoss: 1.843902\n",
      "Train Epoch: 1 [16000/50000 (32%)]\tLoss: 1.807654\n",
      "Train Epoch: 1 [32000/50000 (64%)]\tLoss: 2.031282\n",
      "Train Epoch: 1 [48000/50000 (96%)]\tLoss: 2.295078\n",
      "\n",
      "Training set: Accuracy: 15982/50000 (32%)\n",
      "Test set: Accuracy: 3618/10000 (36%)\n",
      "\n",
      "Train Epoch: 2 [0/50000 (0%)]\tLoss: 1.865587\n",
      "Train Epoch: 2 [16000/50000 (32%)]\tLoss: 1.870821\n",
      "Train Epoch: 2 [32000/50000 (64%)]\tLoss: 1.900439\n",
      "Train Epoch: 2 [48000/50000 (96%)]\tLoss: 2.424363\n",
      "\n",
      "Training set: Accuracy: 16333/50000 (33%)\n",
      "Test set: Accuracy: 3750/10000 (38%)\n",
      "\n",
      "Train Epoch: 3 [0/50000 (0%)]\tLoss: 1.976424\n",
      "Train Epoch: 3 [16000/50000 (32%)]\tLoss: 1.942910\n",
      "Train Epoch: 3 [32000/50000 (64%)]\tLoss: 1.730792\n",
      "Train Epoch: 3 [48000/50000 (96%)]\tLoss: 2.608979\n",
      "\n",
      "Training set: Accuracy: 16517/50000 (33%)\n",
      "Test set: Accuracy: 3608/10000 (36%)\n",
      "\n",
      "Train Epoch: 4 [0/50000 (0%)]\tLoss: 2.032536\n",
      "Train Epoch: 4 [16000/50000 (32%)]\tLoss: 2.041300\n",
      "Train Epoch: 4 [32000/50000 (64%)]\tLoss: 2.212501\n",
      "Train Epoch: 4 [48000/50000 (96%)]\tLoss: 2.418058\n",
      "\n",
      "Training set: Accuracy: 16443/50000 (33%)\n",
      "Test set: Accuracy: 3726/10000 (37%)\n",
      "\n",
      "Train Epoch: 5 [0/50000 (0%)]\tLoss: 1.815037\n",
      "Train Epoch: 5 [16000/50000 (32%)]\tLoss: 1.858863\n",
      "Train Epoch: 5 [32000/50000 (64%)]\tLoss: 1.833200\n",
      "Train Epoch: 5 [48000/50000 (96%)]\tLoss: 2.389140\n",
      "\n",
      "Training set: Accuracy: 16359/50000 (33%)\n",
      "Test set: Accuracy: 3629/10000 (36%)\n",
      "\n",
      "Train Epoch: 6 [0/50000 (0%)]\tLoss: 1.806766\n",
      "Train Epoch: 6 [16000/50000 (32%)]\tLoss: 2.008843\n",
      "Train Epoch: 6 [32000/50000 (64%)]\tLoss: 2.210348\n",
      "Train Epoch: 6 [48000/50000 (96%)]\tLoss: 2.190438\n",
      "\n",
      "Training set: Accuracy: 16422/50000 (33%)\n",
      "Test set: Accuracy: 3921/10000 (39%)\n",
      "\n",
      "Train Epoch: 7 [0/50000 (0%)]\tLoss: 1.938980\n",
      "Train Epoch: 7 [16000/50000 (32%)]\tLoss: 1.921694\n",
      "Train Epoch: 7 [32000/50000 (64%)]\tLoss: 1.974255\n",
      "Train Epoch: 7 [48000/50000 (96%)]\tLoss: 2.195594\n",
      "\n",
      "Training set: Accuracy: 16523/50000 (33%)\n",
      "Test set: Accuracy: 3748/10000 (37%)\n",
      "\n",
      "Train Epoch: 8 [0/50000 (0%)]\tLoss: 2.262452\n",
      "Train Epoch: 8 [16000/50000 (32%)]\tLoss: 1.883141\n",
      "Train Epoch: 8 [32000/50000 (64%)]\tLoss: 1.903204\n",
      "Train Epoch: 8 [48000/50000 (96%)]\tLoss: 2.620108\n",
      "\n",
      "Training set: Accuracy: 16553/50000 (33%)\n",
      "Test set: Accuracy: 3581/10000 (36%)\n",
      "\n",
      "Train Epoch: 9 [0/50000 (0%)]\tLoss: 1.924313\n",
      "Train Epoch: 9 [16000/50000 (32%)]\tLoss: 1.968487\n",
      "Train Epoch: 9 [32000/50000 (64%)]\tLoss: 1.981458\n",
      "Train Epoch: 9 [48000/50000 (96%)]\tLoss: 2.418468\n",
      "\n",
      "Training set: Accuracy: 16452/50000 (33%)\n",
      "Test set: Accuracy: 3918/10000 (39%)\n",
      "\n",
      "Train Epoch: 10 [0/50000 (0%)]\tLoss: 1.850371\n",
      "Train Epoch: 10 [16000/50000 (32%)]\tLoss: 1.777692\n",
      "Train Epoch: 10 [32000/50000 (64%)]\tLoss: 1.822225\n",
      "Train Epoch: 10 [48000/50000 (96%)]\tLoss: 2.613622\n",
      "\n",
      "Training set: Accuracy: 16472/50000 (33%)\n",
      "Test set: Accuracy: 3777/10000 (38%)\n",
      "\n",
      "Train Epoch: 11 [0/50000 (0%)]\tLoss: 1.801633\n",
      "Train Epoch: 11 [16000/50000 (32%)]\tLoss: 1.725514\n",
      "Train Epoch: 11 [32000/50000 (64%)]\tLoss: 2.087812\n",
      "Train Epoch: 11 [48000/50000 (96%)]\tLoss: 2.148197\n",
      "\n",
      "Training set: Accuracy: 16414/50000 (33%)\n",
      "Test set: Accuracy: 3660/10000 (37%)\n",
      "\n",
      "Train Epoch: 12 [0/50000 (0%)]\tLoss: 1.953659\n",
      "Train Epoch: 12 [16000/50000 (32%)]\tLoss: 1.809219\n",
      "Train Epoch: 12 [32000/50000 (64%)]\tLoss: 2.018319\n",
      "Train Epoch: 12 [48000/50000 (96%)]\tLoss: 2.231254\n",
      "\n",
      "Training set: Accuracy: 16429/50000 (33%)\n",
      "Test set: Accuracy: 3738/10000 (37%)\n",
      "\n",
      "Train Epoch: 13 [0/50000 (0%)]\tLoss: 2.393704\n",
      "Train Epoch: 13 [16000/50000 (32%)]\tLoss: 1.864915\n",
      "Train Epoch: 13 [32000/50000 (64%)]\tLoss: 1.920440\n",
      "Train Epoch: 13 [48000/50000 (96%)]\tLoss: 2.244021\n",
      "\n",
      "Training set: Accuracy: 16543/50000 (33%)\n",
      "Test set: Accuracy: 3624/10000 (36%)\n",
      "\n",
      "Train Epoch: 14 [0/50000 (0%)]\tLoss: 2.172340\n",
      "Train Epoch: 14 [16000/50000 (32%)]\tLoss: 2.043931\n",
      "Train Epoch: 14 [32000/50000 (64%)]\tLoss: 2.029783\n",
      "Train Epoch: 14 [48000/50000 (96%)]\tLoss: 2.405049\n",
      "\n",
      "Training set: Accuracy: 16608/50000 (33%)\n",
      "Test set: Accuracy: 3778/10000 (38%)\n",
      "\n",
      "Train Epoch: 15 [0/50000 (0%)]\tLoss: 1.886876\n",
      "Train Epoch: 15 [16000/50000 (32%)]\tLoss: 2.051506\n",
      "Train Epoch: 15 [32000/50000 (64%)]\tLoss: 1.809372\n",
      "Train Epoch: 15 [48000/50000 (96%)]\tLoss: 2.448763\n",
      "\n",
      "Training set: Accuracy: 16464/50000 (33%)\n",
      "Test set: Accuracy: 4006/10000 (40%)\n",
      "\n",
      "Train Epoch: 16 [0/50000 (0%)]\tLoss: 1.926960\n",
      "Train Epoch: 16 [16000/50000 (32%)]\tLoss: 1.977453\n",
      "Train Epoch: 16 [32000/50000 (64%)]\tLoss: 2.096907\n",
      "Train Epoch: 16 [48000/50000 (96%)]\tLoss: 2.329911\n",
      "\n",
      "Training set: Accuracy: 16540/50000 (33%)\n",
      "Test set: Accuracy: 3540/10000 (35%)\n",
      "\n",
      "Train Epoch: 17 [0/50000 (0%)]\tLoss: 1.863342\n",
      "Train Epoch: 17 [16000/50000 (32%)]\tLoss: 1.878798\n",
      "Train Epoch: 17 [32000/50000 (64%)]\tLoss: 1.995963\n",
      "Train Epoch: 17 [48000/50000 (96%)]\tLoss: 2.226350\n",
      "\n",
      "Training set: Accuracy: 16427/50000 (33%)\n",
      "Test set: Accuracy: 3744/10000 (37%)\n",
      "\n",
      "Train Epoch: 18 [0/50000 (0%)]\tLoss: 1.933658\n",
      "Train Epoch: 18 [16000/50000 (32%)]\tLoss: 2.030451\n",
      "Train Epoch: 18 [32000/50000 (64%)]\tLoss: 1.926894\n",
      "Train Epoch: 18 [48000/50000 (96%)]\tLoss: 2.348160\n",
      "\n",
      "Training set: Accuracy: 16532/50000 (33%)\n",
      "Test set: Accuracy: 3608/10000 (36%)\n",
      "\n",
      "Train Epoch: 19 [0/50000 (0%)]\tLoss: 1.944293\n",
      "Train Epoch: 19 [16000/50000 (32%)]\tLoss: 1.919226\n",
      "Train Epoch: 19 [32000/50000 (64%)]\tLoss: 1.737225\n",
      "Train Epoch: 19 [48000/50000 (96%)]\tLoss: 2.392652\n",
      "\n",
      "Training set: Accuracy: 16486/50000 (33%)\n",
      "Test set: Accuracy: 3621/10000 (36%)\n",
      "\n"
     ]
    }
   ],
   "source": [
    "network2 = Model_2()\n",
    "rlt_const2 = training(network2, 0.05)"
   ]
  },
  {
   "cell_type": "markdown",
   "id": "5480845d",
   "metadata": {},
   "source": [
    "# 8.학습 결과 보기 \n",
    "## loss와 Accuracy 값 비교"
   ]
  },
  {
   "cell_type": "code",
   "execution_count": 15,
   "id": "8d65ae99",
   "metadata": {},
   "outputs": [],
   "source": [
    "def show_rlt(rlt,title):\n",
    "    fig = plt.figure(figsize=(15,5))\n",
    "\n",
    "    fig.suptitle(title)\n",
    "    ax1 = fig.add_subplot(121)\n",
    "    ax2 = fig.add_subplot(122)\n",
    "\n",
    "    x = np.arange(1,21)\n",
    "  \n",
    "    ax1.plot(x,rlt[0], x,rlt[1])\n",
    "    ax1.legend(['training', 'test'])\n",
    "    ax1.set_xlabel('Epoches --->')\n",
    "    ax1.set_ylabel('Loss --->')\n",
    "    ax1.set_xlim([0,21])\n",
    "    \n",
    "    ax2.plot(x,rlt[2],x,rlt[3])\n",
    "    ax2.legend(['training', 'test'])\n",
    "    ax2.set_xlabel('Epoches --->')\n",
    "    ax2.set_ylabel('Accuracy --->')\n",
    "    ax2.set_xlim([0,21])\n",
    "\n",
    "    plt.show()"
   ]
  },
  {
   "cell_type": "code",
   "execution_count": 17,
   "id": "a9308ece",
   "metadata": {},
   "outputs": [
    {
     "data": {
      "image/png": "[encoded data removed]",
      "text/plain": [
       "<Figure size 1500x500 with 2 Axes>"
      ]
     },
     "metadata": {},
     "output_type": "display_data"
    }
   ],
   "source": [
    "show_rlt(rlt_const, 'Batch_Normalization_2019125071')"
   ]
  },
  {
   "cell_type": "code",
   "execution_count": 18,
   "id": "566d0de1",
   "metadata": {
    "scrolled": true
   },
   "outputs": [
    {
     "data": {
      "image/png": "[encoded data removed]",
      "text/plain": [
       "<Figure size 1500x500 with 2 Axes>"
      ]
     },
     "metadata": {},
     "output_type": "display_data"
    }
   ],
   "source": [
    "show_rlt(rlt_const2, 'Dropout_2019125071')"
   ]
  },
  {
   "cell_type": "markdown",
   "id": "fd1beff5",
   "metadata": {},
   "source": [
    "# 9. Hyperparameter 찾기\n",
    "\n",
    "위 Dropout 모델의 최적의 learning rate를 찾으세요.\n",
    "\n",
    "스스로 계획을 짜고 어떤 lr 이 가장 나은 성능을 내었는지 분석하세요."
   ]
  },
  {
   "cell_type": "markdown",
   "id": "2656e1f5",
   "metadata": {},
   "source": [
    "learning rate를 0.0001~1사이에서 Random Search를 사용해서 최적값을 구하는 시도를 했다.\n",
    "1번째 시도: learning rate = [0.0001, 0.005, 0.01, 0.3] => Accuracy = [39, 49, 48, NaN]\n",
    "2번째 시도: learning rate = [0.001, 0.003, 0.007, 0.009] => Accuracy = [47, 48, 49, 48] \n",
    "3번째 시도: learning rate = [0.0055, 0.006, 0.0065] => Accuracy = [49, 49, 49]\n",
    "    =>learning rate가 0.5~0.7사이의 값으로 설정되었을 때 가장 나은 성능을 보였다."
   ]
  },
  {
   "cell_type": "code",
   "execution_count": null,
   "id": "ab7fc4f8",
   "metadata": {},
   "outputs": [],
   "source": []
  }
 ],
 "metadata": {
  "kernelspec": {
   "display_name": "Python 3 (ipykernel)",
   "language": "python",
   "name": "python3"
  },
  "language_info": {
   "codemirror_mode": {
    "name": "ipython",
    "version": 3
   },
   "file_extension": ".py",
   "mimetype": "text/x-python",
   "name": "python",
   "nbconvert_exporter": "python",
   "pygments_lexer": "ipython3",
   "version": "3.9.13"
  }
 },
 "nbformat": 4,
 "nbformat_minor": 5
}
